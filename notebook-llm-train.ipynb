{
 "cells": [
  {
   "cell_type": "code",
   "execution_count": 1,
   "id": "845df721",
   "metadata": {
    "_cell_guid": "b1076dfc-b9ad-4769-8c92-a6c4dae69d19",
    "_uuid": "8f2839f25d086af736a60e9eeb907d3b93b6e0e5",
    "execution": {
     "iopub.execute_input": "2023-10-21T06:28:59.257096Z",
     "iopub.status.busy": "2023-10-21T06:28:59.256622Z",
     "iopub.status.idle": "2023-10-21T06:28:59.784552Z",
     "shell.execute_reply": "2023-10-21T06:28:59.783152Z"
    },
    "papermill": {
     "duration": 0.536919,
     "end_time": "2023-10-21T06:28:59.787832",
     "exception": false,
     "start_time": "2023-10-21T06:28:59.250913",
     "status": "completed"
    },
    "tags": []
   },
   "outputs": [
    {
     "name": "stdout",
     "output_type": "stream",
     "text": [
      "/kaggle/input/tokenize/tokenizer.json\n",
      "/kaggle/input/tokenize/tokenizer_config.json\n",
      "/kaggle/input/tokenize/vocab.txt\n",
      "/kaggle/input/kaggle-llm-science-exam/sample_submission.csv\n",
      "/kaggle/input/kaggle-llm-science-exam/train.csv\n",
      "/kaggle/input/kaggle-llm-science-exam/test.csv\n",
      "/kaggle/input/berttrain/config.json\n",
      "/kaggle/input/berttrain/pytorch_model.bin\n",
      "/kaggle/input/bertmodel2/config.json\n",
      "/kaggle/input/bertmodel2/pytorch_model.bin\n",
      "/kaggle/input/tokenizetrain/tokenizer.json\n",
      "/kaggle/input/tokenizetrain/tokenizer_config.json\n",
      "/kaggle/input/tokenizetrain/special_tokens_map.json\n",
      "/kaggle/input/tokenizetrain/vocab.txt\n"
     ]
    }
   ],
   "source": [
    "# This Python 3 environment comes with many helpful analytics libraries installed\n",
    "# It is defined by the kaggle/python Docker image: https://github.com/kaggle/docker-python\n",
    "# For example, here's several helpful packages to load\n",
    "\n",
    "import numpy as np # linear algebra\n",
    "import pandas as pd # data processing, CSV file I/O (e.g. pd.read_csv)\n",
    "\n",
    "# Input data files are available in the read-only \"../input/\" directory\n",
    "# For example, running this (by clicking run or pressing Shift+Enter) will list all files under the input directory\n",
    "\n",
    "import os\n",
    "for dirname, _, filenames in os.walk('/kaggle/input'):\n",
    "    for filename in filenames:\n",
    "        print(os.path.join(dirname, filename))\n",
    "\n",
    "# You can write up to 20GB to the current directory (/kaggle/working/) that gets preserved as output when you create a version using \"Save & Run All\" \n",
    "# You can also write temporary files to /kaggle/temp/, but they won't be saved outside of the current session"
   ]
  },
  {
   "cell_type": "code",
   "execution_count": 2,
   "id": "2031bc13",
   "metadata": {
    "execution": {
     "iopub.execute_input": "2023-10-21T06:28:59.800508Z",
     "iopub.status.busy": "2023-10-21T06:28:59.799199Z",
     "iopub.status.idle": "2023-10-21T06:29:17.144395Z",
     "shell.execute_reply": "2023-10-21T06:29:17.143179Z"
    },
    "papermill": {
     "duration": 17.35398,
     "end_time": "2023-10-21T06:29:17.148013",
     "exception": false,
     "start_time": "2023-10-21T06:28:59.794033",
     "status": "completed"
    },
    "tags": []
   },
   "outputs": [],
   "source": [
    "import pandas as pd\n",
    "import torch\n",
    "from transformers import BertTokenizer, BertForSequenceClassification\n",
    "from transformers import AutoModel, AutoTokenizer\n",
    "from transformers import AutoTokenizer, AutoModelForMultipleChoice\n",
    "\n",
    "import pandas as pd\n",
    "import torch\n",
    "from transformers import BertForSequenceClassification\n",
    "from transformers import BertForMultipleChoice, BertTokenizer\n",
    "from transformers import BertForQuestionAnswering\n",
    "import transformers\n",
    "from transformers import AdamW\n",
    "from torch.nn import CrossEntropyLoss\n",
    "\n",
    "device = torch.device('cuda' if torch.cuda.is_available() else 'cpu')"
   ]
  },
  {
   "cell_type": "code",
   "execution_count": 3,
   "id": "0a61ad8a",
   "metadata": {
    "execution": {
     "iopub.execute_input": "2023-10-21T06:29:17.157087Z",
     "iopub.status.busy": "2023-10-21T06:29:17.156632Z",
     "iopub.status.idle": "2023-10-21T06:29:17.184914Z",
     "shell.execute_reply": "2023-10-21T06:29:17.183581Z"
    },
    "papermill": {
     "duration": 0.036558,
     "end_time": "2023-10-21T06:29:17.188198",
     "exception": false,
     "start_time": "2023-10-21T06:29:17.151640",
     "status": "completed"
    },
    "tags": []
   },
   "outputs": [],
   "source": [
    "dft = pd.read_csv('/kaggle/input/kaggle-llm-science-exam/train.csv')"
   ]
  },
  {
   "cell_type": "code",
   "execution_count": 4,
   "id": "53b317ce",
   "metadata": {
    "execution": {
     "iopub.execute_input": "2023-10-21T06:29:17.197606Z",
     "iopub.status.busy": "2023-10-21T06:29:17.197094Z",
     "iopub.status.idle": "2023-10-21T07:31:51.743519Z",
     "shell.execute_reply": "2023-10-21T07:31:51.742076Z"
    },
    "papermill": {
     "duration": 3754.555534,
     "end_time": "2023-10-21T07:31:51.747277",
     "exception": false,
     "start_time": "2023-10-21T06:29:17.191743",
     "status": "completed"
    },
    "tags": []
   },
   "outputs": [
    {
     "name": "stderr",
     "output_type": "stream",
     "text": [
      "/opt/conda/lib/python3.10/site-packages/transformers/optimization.py:411: FutureWarning: This implementation of AdamW is deprecated and will be removed in a future version. Use the PyTorch implementation torch.optim.AdamW instead, or set `no_deprecation_warning=True` to disable this warning\n",
      "  warnings.warn(\n"
     ]
    }
   ],
   "source": [
    "model_name = \"allenai/scibert_scivocab_uncased\"\n",
    "model = AutoModelForMultipleChoice.from_pretrained('/kaggle/input/bertmodel2')\n",
    "tokenizer = AutoTokenizer.from_pretrained('/kaggle/input/tokenize')\n",
    "\n",
    "# オプティマイザーの設定\n",
    "optimizer = AdamW(model.parameters(), lr=1e-5)\n",
    "\n",
    "# 損失関数の設定\n",
    "loss_fn = CrossEntropyLoss()\n",
    "\n",
    "# 訓練データの長さ\n",
    "n = len(dft['prompt'])\n",
    "\n",
    "for epoch in range(10):  # エポック数は適宜調整してください\n",
    "    total_loss = 0\n",
    "\n",
    "    for a in range(n):\n",
    "        prompt = dft.iloc[a]['prompt']\n",
    "        choices = [\"A\", \"B\", \"C\", \"D\", \"E\"]\n",
    "        choice_texts = dft.iloc[a][choices].values.tolist()\n",
    "\n",
    "        # 入力データとラベルのエンコード\n",
    "        encoded = tokenizer([prompt]*5, choice_texts, padding=True, return_tensors='pt', truncation=True, max_length=512)\n",
    "        input_ids = encoded['input_ids'].view(1, 5, -1)\n",
    "        attention_mask = encoded['attention_mask'].view(1, 5, -1)\n",
    "        labels = torch.tensor([choices.index(dft.iloc[a]['answer'])])  # 'answer'カラムから正解ラベルを取得\n",
    "\n",
    "        # 勾配をゼロに初期化\n",
    "        optimizer.zero_grad()\n",
    "\n",
    "        # フォワードパス\n",
    "        outputs = model(input_ids, attention_mask=attention_mask, labels=labels)\n",
    "        loss = outputs.loss\n",
    "\n",
    "        # バックワードパスとパラメータ更新\n",
    "        loss.backward()\n",
    "        optimizer.step()\n",
    "\n",
    "        total_loss += loss.item()\n",
    "\n",
    "    #print(f\"Epoch {epoch+1}, Loss: {total_loss/n}\")\n",
    "\n",
    "# モデルとトークナイザーの保存\n",
    "tokenizer.save_pretrained('/kaggle/working/')\n",
    "model.save_pretrained(\"/kaggle/working/\")"
   ]
  },
  {
   "cell_type": "code",
   "execution_count": 5,
   "id": "288c0b04",
   "metadata": {
    "execution": {
     "iopub.execute_input": "2023-10-21T07:31:51.757598Z",
     "iopub.status.busy": "2023-10-21T07:31:51.756383Z",
     "iopub.status.idle": "2023-10-21T07:32:08.885005Z",
     "shell.execute_reply": "2023-10-21T07:32:08.883691Z"
    },
    "papermill": {
     "duration": 17.137114,
     "end_time": "2023-10-21T07:32:08.888310",
     "exception": false,
     "start_time": "2023-10-21T07:31:51.751196",
     "status": "completed"
    },
    "tags": []
   },
   "outputs": [
    {
     "name": "stdout",
     "output_type": "stream",
     "text": [
      "huggingface/tokenizers: The current process just got forked, after parallelism has already been used. Disabling parallelism to avoid deadlocks...\n",
      "To disable this warning, you can either:\n",
      "\t- Avoid using `tokenizers` before the fork if possible\n",
      "\t- Explicitly set the environment variable TOKENIZERS_PARALLELISM=(true | false)\n",
      "Requirement already satisfied: transformers in /opt/conda/lib/python3.10/site-packages (4.33.0)\r\n",
      "Requirement already satisfied: filelock in /opt/conda/lib/python3.10/site-packages (from transformers) (3.12.2)\r\n",
      "Requirement already satisfied: huggingface-hub<1.0,>=0.15.1 in /opt/conda/lib/python3.10/site-packages (from transformers) (0.16.4)\r\n",
      "Requirement already satisfied: numpy>=1.17 in /opt/conda/lib/python3.10/site-packages (from transformers) (1.23.5)\r\n",
      "Requirement already satisfied: packaging>=20.0 in /opt/conda/lib/python3.10/site-packages (from transformers) (21.3)\r\n",
      "Requirement already satisfied: pyyaml>=5.1 in /opt/conda/lib/python3.10/site-packages (from transformers) (6.0)\r\n",
      "Requirement already satisfied: regex!=2019.12.17 in /opt/conda/lib/python3.10/site-packages (from transformers) (2023.6.3)\r\n",
      "Requirement already satisfied: requests in /opt/conda/lib/python3.10/site-packages (from transformers) (2.31.0)\r\n",
      "Requirement already satisfied: tokenizers!=0.11.3,<0.14,>=0.11.1 in /opt/conda/lib/python3.10/site-packages (from transformers) (0.13.3)\r\n",
      "Requirement already satisfied: safetensors>=0.3.1 in /opt/conda/lib/python3.10/site-packages (from transformers) (0.3.3)\r\n",
      "Requirement already satisfied: tqdm>=4.27 in /opt/conda/lib/python3.10/site-packages (from transformers) (4.66.1)\r\n",
      "Requirement already satisfied: fsspec in /opt/conda/lib/python3.10/site-packages (from huggingface-hub<1.0,>=0.15.1->transformers) (2023.9.0)\r\n",
      "Requirement already satisfied: typing-extensions>=3.7.4.3 in /opt/conda/lib/python3.10/site-packages (from huggingface-hub<1.0,>=0.15.1->transformers) (4.6.3)\r\n",
      "Requirement already satisfied: pyparsing!=3.0.5,>=2.0.2 in /opt/conda/lib/python3.10/site-packages (from packaging>=20.0->transformers) (3.0.9)\r\n",
      "Requirement already satisfied: charset-normalizer<4,>=2 in /opt/conda/lib/python3.10/site-packages (from requests->transformers) (3.1.0)\r\n",
      "Requirement already satisfied: idna<4,>=2.5 in /opt/conda/lib/python3.10/site-packages (from requests->transformers) (3.4)\r\n",
      "Requirement already satisfied: urllib3<3,>=1.21.1 in /opt/conda/lib/python3.10/site-packages (from requests->transformers) (1.26.15)\r\n",
      "Requirement already satisfied: certifi>=2017.4.17 in /opt/conda/lib/python3.10/site-packages (from requests->transformers) (2023.7.22)\r\n"
     ]
    }
   ],
   "source": [
    "df = pd.read_csv(\"/kaggle/input/kaggle-llm-science-exam/train.csv\")\n",
    "!pip install transformers"
   ]
  }
 ],
 "metadata": {
  "kernelspec": {
   "display_name": "Python 3",
   "language": "python",
   "name": "python3"
  },
  "language_info": {
   "codemirror_mode": {
    "name": "ipython",
    "version": 3
   },
   "file_extension": ".py",
   "mimetype": "text/x-python",
   "name": "python",
   "nbconvert_exporter": "python",
   "pygments_lexer": "ipython3",
   "version": "3.10.12"
  },
  "papermill": {
   "default_parameters": {},
   "duration": 3797.512377,
   "end_time": "2023-10-21T07:32:12.549035",
   "environment_variables": {},
   "exception": null,
   "input_path": "__notebook__.ipynb",
   "output_path": "__notebook__.ipynb",
   "parameters": {},
   "start_time": "2023-10-21T06:28:55.036658",
   "version": "2.4.0"
  }
 },
 "nbformat": 4,
 "nbformat_minor": 5
}
