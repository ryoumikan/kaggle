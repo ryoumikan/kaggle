{
 "cells": [
  {
   "cell_type": "code",
   "execution_count": 1,
   "id": "ec420371",
   "metadata": {
    "_cell_guid": "b1076dfc-b9ad-4769-8c92-a6c4dae69d19",
    "_uuid": "8f2839f25d086af736a60e9eeb907d3b93b6e0e5",
    "execution": {
     "iopub.execute_input": "2023-10-21T06:55:16.731209Z",
     "iopub.status.busy": "2023-10-21T06:55:16.730383Z",
     "iopub.status.idle": "2023-10-21T06:55:17.228451Z",
     "shell.execute_reply": "2023-10-21T06:55:17.227177Z"
    },
    "papermill": {
     "duration": 0.507196,
     "end_time": "2023-10-21T06:55:17.231633",
     "exception": false,
     "start_time": "2023-10-21T06:55:16.724437",
     "status": "completed"
    },
    "tags": []
   },
   "outputs": [
    {
     "name": "stdout",
     "output_type": "stream",
     "text": [
      "/kaggle/input/tokenizetrain/tokenizer.json\n",
      "/kaggle/input/tokenizetrain/tokenizer_config.json\n",
      "/kaggle/input/tokenizetrain/special_tokens_map.json\n",
      "/kaggle/input/tokenizetrain/vocab.txt\n",
      "/kaggle/input/berttrain/config.json\n",
      "/kaggle/input/berttrain/pytorch_model.bin\n",
      "/kaggle/input/kaggle-llm-science-exam/sample_submission.csv\n",
      "/kaggle/input/kaggle-llm-science-exam/train.csv\n",
      "/kaggle/input/kaggle-llm-science-exam/test.csv\n",
      "/kaggle/input/notebookeb09198479/config.json\n",
      "/kaggle/input/notebookeb09198479/__results__.html\n",
      "/kaggle/input/notebookeb09198479/tokenizer.json\n",
      "/kaggle/input/notebookeb09198479/tokenizer_config.json\n",
      "/kaggle/input/notebookeb09198479/pytorch_model.bin\n",
      "/kaggle/input/notebookeb09198479/submission.csv\n",
      "/kaggle/input/notebookeb09198479/__notebook__.ipynb\n",
      "/kaggle/input/notebookeb09198479/special_tokens_map.json\n",
      "/kaggle/input/notebookeb09198479/__output__.json\n",
      "/kaggle/input/notebookeb09198479/vocab.txt\n",
      "/kaggle/input/notebookeb09198479/custom.css\n"
     ]
    }
   ],
   "source": [
    "# This Python 3 environment comes with many helpful analytics libraries installed\n",
    "# It is defined by the kaggle/python Docker image: https://github.com/kaggle/docker-python\n",
    "# For example, here's several helpful packages to load\n",
    "\n",
    "import numpy as np # linear algebra\n",
    "import pandas as pd # data processing, CSV file I/O (e.g. pd.read_csv)\n",
    "\n",
    "# Input data files are available in the read-only \"../input/\" directory\n",
    "# For example, running this (by clicking run or pressing Shift+Enter) will list all files under the input directory\n",
    "\n",
    "import os\n",
    "for dirname, _, filenames in os.walk('/kaggle/input'):\n",
    "    for filename in filenames:\n",
    "        print(os.path.join(dirname, filename))\n",
    "\n",
    "# You can write up to 20GB to the current directory (/kaggle/working/) that gets preserved as output when you create a version using \"Save & Run All\" \n",
    "# You can also write temporary files to /kaggle/temp/, but they won't be saved outside of the current session"
   ]
  },
  {
   "cell_type": "code",
   "execution_count": 2,
   "id": "88f27334",
   "metadata": {
    "execution": {
     "iopub.execute_input": "2023-10-21T06:55:17.244297Z",
     "iopub.status.busy": "2023-10-21T06:55:17.242676Z",
     "iopub.status.idle": "2023-10-21T06:55:35.526835Z",
     "shell.execute_reply": "2023-10-21T06:55:35.525497Z"
    },
    "papermill": {
     "duration": 18.292364,
     "end_time": "2023-10-21T06:55:35.530123",
     "exception": false,
     "start_time": "2023-10-21T06:55:17.237759",
     "status": "completed"
    },
    "tags": []
   },
   "outputs": [],
   "source": [
    "import pandas as pd\n",
    "import torch\n",
    "from transformers import BertTokenizer, BertForSequenceClassification\n",
    "from transformers import AutoModel, AutoTokenizer\n",
    "from transformers import AutoTokenizer, AutoModelForMultipleChoice\n",
    "\n",
    "import pandas as pd\n",
    "import torch\n",
    "from transformers import BertForSequenceClassification\n",
    "from transformers import BertForMultipleChoice, BertTokenizer\n",
    "from transformers import BertForQuestionAnswering\n",
    "device = torch.device('cuda' if torch.cuda.is_available() else 'cpu')\n"
   ]
  },
  {
   "cell_type": "code",
   "execution_count": 3,
   "id": "e4b76596",
   "metadata": {
    "execution": {
     "iopub.execute_input": "2023-10-21T06:55:35.540466Z",
     "iopub.status.busy": "2023-10-21T06:55:35.540010Z",
     "iopub.status.idle": "2023-10-21T06:55:35.569643Z",
     "shell.execute_reply": "2023-10-21T06:55:35.568345Z"
    },
    "papermill": {
     "duration": 0.039468,
     "end_time": "2023-10-21T06:55:35.573111",
     "exception": false,
     "start_time": "2023-10-21T06:55:35.533643",
     "status": "completed"
    },
    "tags": []
   },
   "outputs": [],
   "source": [
    "df = pd.read_csv('/kaggle/input/kaggle-llm-science-exam/test.csv')\n"
   ]
  },
  {
   "cell_type": "code",
   "execution_count": 4,
   "id": "02fb2fc1",
   "metadata": {
    "execution": {
     "iopub.execute_input": "2023-10-21T06:55:35.582211Z",
     "iopub.status.busy": "2023-10-21T06:55:35.581463Z",
     "iopub.status.idle": "2023-10-21T06:57:23.286614Z",
     "shell.execute_reply": "2023-10-21T06:57:23.285019Z"
    },
    "papermill": {
     "duration": 107.713788,
     "end_time": "2023-10-21T06:57:23.290273",
     "exception": false,
     "start_time": "2023-10-21T06:55:35.576485",
     "status": "completed"
    },
    "tags": []
   },
   "outputs": [],
   "source": [
    "list_a = []\n",
    "model_name = \"allenai/scibert_scivocab_uncased\"\n",
    "model = AutoModelForMultipleChoice.from_pretrained('/kaggle/input/berttrain')\n",
    "tokenizer = AutoTokenizer.from_pretrained('/kaggle/input/tokenizetrain')\n",
    "\n",
    "\n",
    "for a in range(len(df['prompt'])):\n",
    "    prompt = df.iloc[a]['prompt']\n",
    "    choices = [\"A\", \"B\", \"C\", \"D\", \"E\"]\n",
    "    choice_texts = df.iloc[a][choices].values.tolist()\n",
    "\n",
    "    encoded = tokenizer([prompt]*5, choice_texts, padding=True, return_tensors='pt', truncation=True, max_length=512)\n",
    "    input_ids = encoded['input_ids'].view(1, 5, -1)\n",
    "    attention_mask = encoded['attention_mask'].view(1, 5, -1)\n",
    "\n",
    "    with torch.no_grad():\n",
    "        outputs = model(input_ids, attention_mask=attention_mask)\n",
    "    logits = outputs.logits\n",
    "\n",
    "    # 上位k個の選択肢を取得\n",
    "    k = 3  # 取得したい選択肢の数\n",
    "    topk_values, topk_indices = torch.topk(logits, k)\n",
    "    \n",
    "    # logitsと選択肢を一緒にソート\n",
    "    sorted_indices = torch.argsort(logits, descending=True)\n",
    "    sorted_choices = [choices[index] for index in sorted_indices[0]]\n",
    "\n",
    "# 上位k個の選択肢を取得\n",
    "    top_choices = sorted_choices[:k]\n",
    "    list_a.append(top_choices)\n",
    "    "
   ]
  },
  {
   "cell_type": "code",
   "execution_count": 5,
   "id": "beb5ca60",
   "metadata": {
    "execution": {
     "iopub.execute_input": "2023-10-21T06:57:23.300445Z",
     "iopub.status.busy": "2023-10-21T06:57:23.299184Z",
     "iopub.status.idle": "2023-10-21T06:57:23.339517Z",
     "shell.execute_reply": "2023-10-21T06:57:23.338141Z"
    },
    "papermill": {
     "duration": 0.049663,
     "end_time": "2023-10-21T06:57:23.343646",
     "exception": false,
     "start_time": "2023-10-21T06:57:23.293983",
     "status": "completed"
    },
    "tags": []
   },
   "outputs": [
    {
     "name": "stderr",
     "output_type": "stream",
     "text": [
      "/tmp/ipykernel_20/1137045637.py:3: SettingWithCopyWarning: \n",
      "A value is trying to be set on a copy of a slice from a DataFrame.\n",
      "Try using .loc[row_indexer,col_indexer] = value instead\n",
      "\n",
      "See the caveats in the documentation: https://pandas.pydata.org/pandas-docs/stable/user_guide/indexing.html#returning-a-view-versus-a-copy\n",
      "  submission['prediction'] = submission['prediction'].apply(lambda x: ' '.join(map(str, x)))\n"
     ]
    },
    {
     "data": {
      "text/html": [
       "<div>\n",
       "<style scoped>\n",
       "    .dataframe tbody tr th:only-of-type {\n",
       "        vertical-align: middle;\n",
       "    }\n",
       "\n",
       "    .dataframe tbody tr th {\n",
       "        vertical-align: top;\n",
       "    }\n",
       "\n",
       "    .dataframe thead th {\n",
       "        text-align: right;\n",
       "    }\n",
       "</style>\n",
       "<table border=\"1\" class=\"dataframe\">\n",
       "  <thead>\n",
       "    <tr style=\"text-align: right;\">\n",
       "      <th></th>\n",
       "      <th>id</th>\n",
       "      <th>prediction</th>\n",
       "    </tr>\n",
       "  </thead>\n",
       "  <tbody>\n",
       "    <tr>\n",
       "      <th>0</th>\n",
       "      <td>0</td>\n",
       "      <td>D B A</td>\n",
       "    </tr>\n",
       "    <tr>\n",
       "      <th>1</th>\n",
       "      <td>1</td>\n",
       "      <td>A E C</td>\n",
       "    </tr>\n",
       "    <tr>\n",
       "      <th>2</th>\n",
       "      <td>2</td>\n",
       "      <td>A C B</td>\n",
       "    </tr>\n",
       "    <tr>\n",
       "      <th>3</th>\n",
       "      <td>3</td>\n",
       "      <td>C A B</td>\n",
       "    </tr>\n",
       "    <tr>\n",
       "      <th>4</th>\n",
       "      <td>4</td>\n",
       "      <td>D C A</td>\n",
       "    </tr>\n",
       "    <tr>\n",
       "      <th>5</th>\n",
       "      <td>5</td>\n",
       "      <td>B C A</td>\n",
       "    </tr>\n",
       "    <tr>\n",
       "      <th>6</th>\n",
       "      <td>6</td>\n",
       "      <td>A C D</td>\n",
       "    </tr>\n",
       "    <tr>\n",
       "      <th>7</th>\n",
       "      <td>7</td>\n",
       "      <td>D B A</td>\n",
       "    </tr>\n",
       "    <tr>\n",
       "      <th>8</th>\n",
       "      <td>8</td>\n",
       "      <td>C E D</td>\n",
       "    </tr>\n",
       "    <tr>\n",
       "      <th>9</th>\n",
       "      <td>9</td>\n",
       "      <td>A E B</td>\n",
       "    </tr>\n",
       "    <tr>\n",
       "      <th>10</th>\n",
       "      <td>10</td>\n",
       "      <td>E B A</td>\n",
       "    </tr>\n",
       "    <tr>\n",
       "      <th>11</th>\n",
       "      <td>11</td>\n",
       "      <td>A B D</td>\n",
       "    </tr>\n",
       "    <tr>\n",
       "      <th>12</th>\n",
       "      <td>12</td>\n",
       "      <td>C B E</td>\n",
       "    </tr>\n",
       "    <tr>\n",
       "      <th>13</th>\n",
       "      <td>13</td>\n",
       "      <td>D C B</td>\n",
       "    </tr>\n",
       "    <tr>\n",
       "      <th>14</th>\n",
       "      <td>14</td>\n",
       "      <td>B E D</td>\n",
       "    </tr>\n",
       "    <tr>\n",
       "      <th>15</th>\n",
       "      <td>15</td>\n",
       "      <td>B E A</td>\n",
       "    </tr>\n",
       "    <tr>\n",
       "      <th>16</th>\n",
       "      <td>16</td>\n",
       "      <td>E D A</td>\n",
       "    </tr>\n",
       "    <tr>\n",
       "      <th>17</th>\n",
       "      <td>17</td>\n",
       "      <td>E B C</td>\n",
       "    </tr>\n",
       "    <tr>\n",
       "      <th>18</th>\n",
       "      <td>18</td>\n",
       "      <td>A B D</td>\n",
       "    </tr>\n",
       "    <tr>\n",
       "      <th>19</th>\n",
       "      <td>19</td>\n",
       "      <td>E C A</td>\n",
       "    </tr>\n",
       "  </tbody>\n",
       "</table>\n",
       "</div>"
      ],
      "text/plain": [
       "    id prediction\n",
       "0    0      D B A\n",
       "1    1      A E C\n",
       "2    2      A C B\n",
       "3    3      C A B\n",
       "4    4      D C A\n",
       "5    5      B C A\n",
       "6    6      A C D\n",
       "7    7      D B A\n",
       "8    8      C E D\n",
       "9    9      A E B\n",
       "10  10      E B A\n",
       "11  11      A B D\n",
       "12  12      C B E\n",
       "13  13      D C B\n",
       "14  14      B E D\n",
       "15  15      B E A\n",
       "16  16      E D A\n",
       "17  17      E B C\n",
       "18  18      A B D\n",
       "19  19      E C A"
      ]
     },
     "execution_count": 5,
     "metadata": {},
     "output_type": "execute_result"
    }
   ],
   "source": [
    "df['prediction']= list_a\n",
    "submission = df[['id', 'prediction']]\n",
    "submission['prediction'] = submission['prediction'].apply(lambda x: ' '.join(map(str, x)))\n",
    "submission.to_csv('submission.csv', index=False)\n",
    "\n",
    "pd.read_csv('submission.csv').head(20)\n"
   ]
  }
 ],
 "metadata": {
  "kernelspec": {
   "display_name": "Python 3",
   "language": "python",
   "name": "python3"
  },
  "language_info": {
   "codemirror_mode": {
    "name": "ipython",
    "version": 3
   },
   "file_extension": ".py",
   "mimetype": "text/x-python",
   "name": "python",
   "nbconvert_exporter": "python",
   "pygments_lexer": "ipython3",
   "version": "3.10.12"
  },
  "papermill": {
   "default_parameters": {},
   "duration": 133.746722,
   "end_time": "2023-10-21T06:57:26.359910",
   "environment_variables": {},
   "exception": null,
   "input_path": "__notebook__.ipynb",
   "output_path": "__notebook__.ipynb",
   "parameters": {},
   "start_time": "2023-10-21T06:55:12.613188",
   "version": "2.4.0"
  }
 },
 "nbformat": 4,
 "nbformat_minor": 5
}
